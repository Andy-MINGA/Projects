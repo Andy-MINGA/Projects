{
 "cells": [
  {
   "cell_type": "markdown",
   "metadata": {},
   "source": [
    "# Introduction\n",
    "\n",
    "The dataset we'll use describes Euro daily exchange rates between 1999 and 2022. The euro (symbolized with €) is the official currency in most of the countries of the European Union.\n",
    "\n",
    "For instance, if the exchange rate of the euro to the US dollar is 1.5, you get 1.5 US dollars if you pay 1.0 euro. \n",
    "\n",
    "Daria Chemkaeva put together the data set and made it available on [Kaggle](https://www.kaggle.com/datasets/lsind18/euro-exchange-daily-rates-19992020). \n",
    "\n",
    "The data source is the European Central Bank. Note that the dataset gets regular updates, and it has been downloaded in March 2023.\n",
    "\n",
    "Our focus in this project will be on the exchange rate between the euro and the American dollar.\n",
    "\n",
    "Now, Let's start by importing our file to as Panda DataFrame \n",
    "\n",
    "## I. Importing Data"
   ]
  },
  {
   "cell_type": "code",
   "execution_count": 62,
   "metadata": {},
   "outputs": [
    {
     "name": "stdout",
     "output_type": "stream",
     "text": [
      "<class 'pandas.core.frame.DataFrame'>\n",
      "RangeIndex: 6229 entries, 0 to 6228\n",
      "Data columns (total 41 columns):\n",
      " #   Column                    Non-Null Count  Dtype  \n",
      "---  ------                    --------------  -----  \n",
      " 0   Period\\Unit:              6229 non-null   object \n",
      " 1   [Australian dollar ]      6229 non-null   object \n",
      " 2   [Bulgarian lev ]          5827 non-null   object \n",
      " 3   [Brazilian real ]         5961 non-null   object \n",
      " 4   [Canadian dollar ]        6229 non-null   object \n",
      " 5   [Swiss franc ]            6229 non-null   object \n",
      " 6   [Chinese yuan renminbi ]  5961 non-null   object \n",
      " 7   [Cypriot pound ]          2346 non-null   object \n",
      " 8   [Czech koruna ]           6229 non-null   object \n",
      " 9   [Danish krone ]           6229 non-null   object \n",
      " 10  [Estonian kroon ]         3130 non-null   object \n",
      " 11  [UK pound sterling ]      6229 non-null   object \n",
      " 12  [Greek drachma ]          520 non-null    object \n",
      " 13  [Hong Kong dollar ]       6229 non-null   object \n",
      " 14  [Croatian kuna ]          5941 non-null   object \n",
      " 15  [Hungarian forint ]       6229 non-null   object \n",
      " 16  [Indonesian rupiah ]      6229 non-null   object \n",
      " 17  [Israeli shekel ]         5961 non-null   object \n",
      " 18  [Indian rupee ]           5961 non-null   object \n",
      " 19  [Iceland krona ]          3822 non-null   float64\n",
      " 20  [Japanese yen ]           6229 non-null   object \n",
      " 21  [Korean won ]             6229 non-null   object \n",
      " 22  [Lithuanian litas ]       4159 non-null   object \n",
      " 23  [Latvian lats ]           3904 non-null   object \n",
      " 24  [Maltese lira ]           2346 non-null   object \n",
      " 25  [Mexican peso ]           6229 non-null   object \n",
      " 26  [Malaysian ringgit ]      6229 non-null   object \n",
      " 27  [Norwegian krone ]        6229 non-null   object \n",
      " 28  [New Zealand dollar ]     6229 non-null   object \n",
      " 29  [Philippine peso ]        6229 non-null   object \n",
      " 30  [Polish zloty ]           6229 non-null   object \n",
      " 31  [Romanian leu ]           6167 non-null   float64\n",
      " 32  [Russian rouble ]         5994 non-null   object \n",
      " 33  [Swedish krona ]          6229 non-null   object \n",
      " 34  [Singapore dollar ]       6229 non-null   object \n",
      " 35  [Slovenian tolar ]        2085 non-null   object \n",
      " 36  [Slovak koruna ]          2608 non-null   object \n",
      " 37  [Thai baht ]              6229 non-null   object \n",
      " 38  [Turkish lira ]           6167 non-null   float64\n",
      " 39  [US dollar ]              6229 non-null   object \n",
      " 40  [South African rand ]     6229 non-null   object \n",
      "dtypes: float64(3), object(38)\n",
      "memory usage: 1.9+ MB\n"
     ]
    },
    {
     "data": {
      "text/html": [
       "<div>\n",
       "<style scoped>\n",
       "    .dataframe tbody tr th:only-of-type {\n",
       "        vertical-align: middle;\n",
       "    }\n",
       "\n",
       "    .dataframe tbody tr th {\n",
       "        vertical-align: top;\n",
       "    }\n",
       "\n",
       "    .dataframe thead th {\n",
       "        text-align: right;\n",
       "    }\n",
       "</style>\n",
       "<table border=\"1\" class=\"dataframe\">\n",
       "  <thead>\n",
       "    <tr style=\"text-align: right;\">\n",
       "      <th></th>\n",
       "      <th>Period\\Unit:</th>\n",
       "      <th>[Australian dollar ]</th>\n",
       "      <th>[Bulgarian lev ]</th>\n",
       "      <th>[Brazilian real ]</th>\n",
       "      <th>[Canadian dollar ]</th>\n",
       "      <th>[Swiss franc ]</th>\n",
       "      <th>[Chinese yuan renminbi ]</th>\n",
       "      <th>[Cypriot pound ]</th>\n",
       "      <th>[Czech koruna ]</th>\n",
       "      <th>[Danish krone ]</th>\n",
       "      <th>...</th>\n",
       "      <th>[Romanian leu ]</th>\n",
       "      <th>[Russian rouble ]</th>\n",
       "      <th>[Swedish krona ]</th>\n",
       "      <th>[Singapore dollar ]</th>\n",
       "      <th>[Slovenian tolar ]</th>\n",
       "      <th>[Slovak koruna ]</th>\n",
       "      <th>[Thai baht ]</th>\n",
       "      <th>[Turkish lira ]</th>\n",
       "      <th>[US dollar ]</th>\n",
       "      <th>[South African rand ]</th>\n",
       "    </tr>\n",
       "  </thead>\n",
       "  <tbody>\n",
       "    <tr>\n",
       "      <th>0</th>\n",
       "      <td>2023-01-27</td>\n",
       "      <td>1.5289</td>\n",
       "      <td>1.9558</td>\n",
       "      <td>5.5104</td>\n",
       "      <td>1.4479</td>\n",
       "      <td>1.0017</td>\n",
       "      <td>7.3690</td>\n",
       "      <td>NaN</td>\n",
       "      <td>23.826</td>\n",
       "      <td>7.4378</td>\n",
       "      <td>...</td>\n",
       "      <td>4.8965</td>\n",
       "      <td>NaN</td>\n",
       "      <td>11.2108</td>\n",
       "      <td>1.4277</td>\n",
       "      <td>NaN</td>\n",
       "      <td>NaN</td>\n",
       "      <td>35.7020</td>\n",
       "      <td>20.4365</td>\n",
       "      <td>1.0865</td>\n",
       "      <td>18.7185</td>\n",
       "    </tr>\n",
       "    <tr>\n",
       "      <th>1</th>\n",
       "      <td>2023-01-26</td>\n",
       "      <td>1.5308</td>\n",
       "      <td>1.9558</td>\n",
       "      <td>5.5572</td>\n",
       "      <td>1.4568</td>\n",
       "      <td>1.0002</td>\n",
       "      <td>7.3893</td>\n",
       "      <td>NaN</td>\n",
       "      <td>23.818</td>\n",
       "      <td>7.4383</td>\n",
       "      <td>...</td>\n",
       "      <td>4.8818</td>\n",
       "      <td>NaN</td>\n",
       "      <td>11.1763</td>\n",
       "      <td>1.4292</td>\n",
       "      <td>NaN</td>\n",
       "      <td>NaN</td>\n",
       "      <td>35.6870</td>\n",
       "      <td>20.4961</td>\n",
       "      <td>1.0895</td>\n",
       "      <td>18.6127</td>\n",
       "    </tr>\n",
       "    <tr>\n",
       "      <th>2</th>\n",
       "      <td>2023-01-25</td>\n",
       "      <td>1.5360</td>\n",
       "      <td>1.9558</td>\n",
       "      <td>5.5690</td>\n",
       "      <td>1.4544</td>\n",
       "      <td>1.0020</td>\n",
       "      <td>7.3778</td>\n",
       "      <td>NaN</td>\n",
       "      <td>23.808</td>\n",
       "      <td>7.4381</td>\n",
       "      <td>...</td>\n",
       "      <td>4.9035</td>\n",
       "      <td>NaN</td>\n",
       "      <td>11.1335</td>\n",
       "      <td>1.4307</td>\n",
       "      <td>NaN</td>\n",
       "      <td>NaN</td>\n",
       "      <td>35.7180</td>\n",
       "      <td>20.4658</td>\n",
       "      <td>1.0878</td>\n",
       "      <td>18.6745</td>\n",
       "    </tr>\n",
       "    <tr>\n",
       "      <th>3</th>\n",
       "      <td>2023-01-24</td>\n",
       "      <td>1.5470</td>\n",
       "      <td>1.9558</td>\n",
       "      <td>5.6164</td>\n",
       "      <td>1.4517</td>\n",
       "      <td>1.0053</td>\n",
       "      <td>7.3642</td>\n",
       "      <td>NaN</td>\n",
       "      <td>23.874</td>\n",
       "      <td>7.4399</td>\n",
       "      <td>...</td>\n",
       "      <td>4.9171</td>\n",
       "      <td>NaN</td>\n",
       "      <td>11.0995</td>\n",
       "      <td>1.4337</td>\n",
       "      <td>NaN</td>\n",
       "      <td>NaN</td>\n",
       "      <td>35.6090</td>\n",
       "      <td>20.4234</td>\n",
       "      <td>1.0858</td>\n",
       "      <td>18.7687</td>\n",
       "    </tr>\n",
       "    <tr>\n",
       "      <th>4</th>\n",
       "      <td>2023-01-23</td>\n",
       "      <td>1.5529</td>\n",
       "      <td>1.9558</td>\n",
       "      <td>5.6372</td>\n",
       "      <td>1.4523</td>\n",
       "      <td>1.0013</td>\n",
       "      <td>7.3730</td>\n",
       "      <td>NaN</td>\n",
       "      <td>23.881</td>\n",
       "      <td>7.4393</td>\n",
       "      <td>...</td>\n",
       "      <td>4.9202</td>\n",
       "      <td>NaN</td>\n",
       "      <td>11.1183</td>\n",
       "      <td>1.4328</td>\n",
       "      <td>NaN</td>\n",
       "      <td>NaN</td>\n",
       "      <td>35.6300</td>\n",
       "      <td>20.4478</td>\n",
       "      <td>1.0871</td>\n",
       "      <td>18.6597</td>\n",
       "    </tr>\n",
       "  </tbody>\n",
       "</table>\n",
       "<p>5 rows × 41 columns</p>\n",
       "</div>"
      ],
      "text/plain": [
       "  Period\\Unit: [Australian dollar ] [Bulgarian lev ] [Brazilian real ]  \\\n",
       "0   2023-01-27               1.5289           1.9558            5.5104   \n",
       "1   2023-01-26               1.5308           1.9558            5.5572   \n",
       "2   2023-01-25               1.5360           1.9558            5.5690   \n",
       "3   2023-01-24               1.5470           1.9558            5.6164   \n",
       "4   2023-01-23               1.5529           1.9558            5.6372   \n",
       "\n",
       "  [Canadian dollar ] [Swiss franc ] [Chinese yuan renminbi ] [Cypriot pound ]  \\\n",
       "0             1.4479         1.0017                   7.3690              NaN   \n",
       "1             1.4568         1.0002                   7.3893              NaN   \n",
       "2             1.4544         1.0020                   7.3778              NaN   \n",
       "3             1.4517         1.0053                   7.3642              NaN   \n",
       "4             1.4523         1.0013                   7.3730              NaN   \n",
       "\n",
       "  [Czech koruna ] [Danish krone ]  ... [Romanian leu ] [Russian rouble ]  \\\n",
       "0          23.826          7.4378  ...          4.8965               NaN   \n",
       "1          23.818          7.4383  ...          4.8818               NaN   \n",
       "2          23.808          7.4381  ...          4.9035               NaN   \n",
       "3          23.874          7.4399  ...          4.9171               NaN   \n",
       "4          23.881          7.4393  ...          4.9202               NaN   \n",
       "\n",
       "  [Swedish krona ] [Singapore dollar ] [Slovenian tolar ] [Slovak koruna ]  \\\n",
       "0          11.2108              1.4277                NaN              NaN   \n",
       "1          11.1763              1.4292                NaN              NaN   \n",
       "2          11.1335              1.4307                NaN              NaN   \n",
       "3          11.0995              1.4337                NaN              NaN   \n",
       "4          11.1183              1.4328                NaN              NaN   \n",
       "\n",
       "  [Thai baht ] [Turkish lira ] [US dollar ]  [South African rand ]  \n",
       "0      35.7020         20.4365       1.0865                18.7185  \n",
       "1      35.6870         20.4961       1.0895                18.6127  \n",
       "2      35.7180         20.4658       1.0878                18.6745  \n",
       "3      35.6090         20.4234       1.0858                18.7687  \n",
       "4      35.6300         20.4478       1.0871                18.6597  \n",
       "\n",
       "[5 rows x 41 columns]"
      ]
     },
     "execution_count": 62,
     "metadata": {},
     "output_type": "execute_result"
    }
   ],
   "source": [
    "import numpy as np\n",
    "import pandas as pd\n",
    "import matplotlib.pyplot as plt\n",
    "import matplotlib.style as style\n",
    "# Enables Jupyter to display graphs\n",
    "%matplotlib inline              \n",
    "import datetime as dt\n",
    "\n",
    "\n",
    "\n",
    "exchange_rates = pd.read_csv('euro-daily-hist_1999_2022.csv')\n",
    "exchange_rates.info()\n",
    "exchange_rates.head()"
   ]
  },
  {
   "cell_type": "markdown",
   "metadata": {},
   "source": [
    "## II. Data Cleaning\n",
    "\n",
    "Before we start creating data visualizations, we'll need to do a bit of data cleaning.\n",
    "\n",
    "We do the following in the code below : \n",
    "\n",
    "- We rename the [US dollar ] and Period\\Unit: columns to something easier to type — US_dollar and Time.\n",
    "- We change the Time column to a datetime data type.\n",
    "- We sort the values by Time in ascending order.\n",
    "- We reset the index (and drop the initial index)."
   ]
  },
  {
   "cell_type": "code",
   "execution_count": 63,
   "metadata": {},
   "outputs": [
    {
     "data": {
      "text/plain": [
       "-         62\n",
       "1.2276     9\n",
       "1.1215     8\n",
       "1.1268     7\n",
       "1.1305     7\n",
       "          ..\n",
       "1.5196     1\n",
       "1.1361     1\n",
       "1.2557     1\n",
       "1.2438     1\n",
       "1.2683     1\n",
       "Name: US_dollar, Length: 3718, dtype: int64"
      ]
     },
     "execution_count": 63,
     "metadata": {},
     "output_type": "execute_result"
    }
   ],
   "source": [
    "exchange_rates.rename(columns={'[US dollar ]': 'US_dollar','Period\\\\Unit:': 'Time'}, inplace=True)\n",
    "exchange_rates['Time'] = pd.to_datetime(exchange_rates['Time'])\n",
    "exchange_rates.sort_values('Time', inplace=True)\n",
    "exchange_rates.reset_index(drop=True, inplace=True)\n",
    "\n",
    "# We isolate the Time and the US_dollar columns. \n",
    "euro_to_dollar = exchange_rates[[\"Time\", \"US_dollar\"]]\n",
    "\n",
    "# We count the values in the US_dollar column\n",
    "exchange_rates['US_dollar'].value_counts() #62 '-' characters"
   ]
  },
  {
   "cell_type": "code",
   "execution_count": 64,
   "metadata": {},
   "outputs": [
    {
     "name": "stdout",
     "output_type": "stream",
     "text": [
      "<class 'pandas.core.frame.DataFrame'>\n",
      "Int64Index: 6167 entries, 0 to 6228\n",
      "Data columns (total 2 columns):\n",
      " #   Column     Non-Null Count  Dtype         \n",
      "---  ------     --------------  -----         \n",
      " 0   Time       6167 non-null   datetime64[ns]\n",
      " 1   US_dollar  6167 non-null   float64       \n",
      "dtypes: datetime64[ns](1), float64(1)\n",
      "memory usage: 144.5 KB\n"
     ]
    },
    {
     "data": {
      "text/html": [
       "<div>\n",
       "<style scoped>\n",
       "    .dataframe tbody tr th:only-of-type {\n",
       "        vertical-align: middle;\n",
       "    }\n",
       "\n",
       "    .dataframe tbody tr th {\n",
       "        vertical-align: top;\n",
       "    }\n",
       "\n",
       "    .dataframe thead th {\n",
       "        text-align: right;\n",
       "    }\n",
       "</style>\n",
       "<table border=\"1\" class=\"dataframe\">\n",
       "  <thead>\n",
       "    <tr style=\"text-align: right;\">\n",
       "      <th></th>\n",
       "      <th>Time</th>\n",
       "      <th>US_dollar</th>\n",
       "    </tr>\n",
       "  </thead>\n",
       "  <tbody>\n",
       "    <tr>\n",
       "      <th>0</th>\n",
       "      <td>1999-01-04</td>\n",
       "      <td>1.1789</td>\n",
       "    </tr>\n",
       "    <tr>\n",
       "      <th>1</th>\n",
       "      <td>1999-01-05</td>\n",
       "      <td>1.1790</td>\n",
       "    </tr>\n",
       "    <tr>\n",
       "      <th>2</th>\n",
       "      <td>1999-01-06</td>\n",
       "      <td>1.1743</td>\n",
       "    </tr>\n",
       "  </tbody>\n",
       "</table>\n",
       "</div>"
      ],
      "text/plain": [
       "        Time  US_dollar\n",
       "0 1999-01-04     1.1789\n",
       "1 1999-01-05     1.1790\n",
       "2 1999-01-06     1.1743"
      ]
     },
     "execution_count": 64,
     "metadata": {},
     "output_type": "execute_result"
    }
   ],
   "source": [
    "# Now, we drop all the rows where the - character appears in the US_dollar column and we convert the US_dollar column to a float data type.\n",
    "euro_to_dollar = euro_to_dollar[euro_to_dollar['US_dollar'] != '-']\n",
    "euro_to_dollar['US_dollar'] = euro_to_dollar['US_dollar'].astype(float)\n",
    "euro_to_dollar.info()\n",
    "euro_to_dollar.head(3)"
   ]
  },
  {
   "cell_type": "markdown",
   "metadata": {},
   "source": [
    "## III. Rolling Mean\n",
    "\n",
    "Now that we're finished cleaning the data, we'll generate a line plot to visualize the evolution of the euro-dollar exchange rate."
   ]
  },
  {
   "cell_type": "code",
   "execution_count": 65,
   "metadata": {},
   "outputs": [
    {
     "data": {
      "image/png": "[encoded data removed]",
      "text/plain": [
       "<Figure size 432x288 with 1 Axes>"
      ]
     },
     "metadata": {},
     "output_type": "display_data"
    }
   ],
   "source": [
    "plt.plot(euro_to_dollar['Time'], euro_to_dollar['US_dollar'])\n",
    "plt.show()"
   ]
  },
  {
   "cell_type": "markdown",
   "metadata": {},
   "source": [
    "If we look at the line's shape, we see many small wiggles, rather than seeing a smooth line. The wiggles, however, have meaning: : they are the visual representation of the daily variation in the exchange rate. The rate goes up and down, up and down again, day to day. The rate only shows clear upward or downward trends in the longer run (months or years).\n",
    "\n",
    "Now, let's calculate the rolling means for the US_dollar column using a moving window of 30 days and add the rolling means to a new column named rolling_mean."
   ]
  },
  {
   "cell_type": "code",
   "execution_count": 66,
   "metadata": {},
   "outputs": [
    {
     "data": {
      "text/html": [
       "<div>\n",
       "<style scoped>\n",
       "    .dataframe tbody tr th:only-of-type {\n",
       "        vertical-align: middle;\n",
       "    }\n",
       "\n",
       "    .dataframe tbody tr th {\n",
       "        vertical-align: top;\n",
       "    }\n",
       "\n",
       "    .dataframe thead th {\n",
       "        text-align: right;\n",
       "    }\n",
       "</style>\n",
       "<table border=\"1\" class=\"dataframe\">\n",
       "  <thead>\n",
       "    <tr style=\"text-align: right;\">\n",
       "      <th></th>\n",
       "      <th>Time</th>\n",
       "      <th>US_dollar</th>\n",
       "      <th>rolling_mean</th>\n",
       "    </tr>\n",
       "  </thead>\n",
       "  <tbody>\n",
       "    <tr>\n",
       "      <th>6224</th>\n",
       "      <td>2023-01-23</td>\n",
       "      <td>1.0871</td>\n",
       "      <td>1.067830</td>\n",
       "    </tr>\n",
       "    <tr>\n",
       "      <th>6225</th>\n",
       "      <td>2023-01-24</td>\n",
       "      <td>1.0858</td>\n",
       "      <td>1.068817</td>\n",
       "    </tr>\n",
       "    <tr>\n",
       "      <th>6226</th>\n",
       "      <td>2023-01-25</td>\n",
       "      <td>1.0878</td>\n",
       "      <td>1.069927</td>\n",
       "    </tr>\n",
       "    <tr>\n",
       "      <th>6227</th>\n",
       "      <td>2023-01-26</td>\n",
       "      <td>1.0895</td>\n",
       "      <td>1.070747</td>\n",
       "    </tr>\n",
       "    <tr>\n",
       "      <th>6228</th>\n",
       "      <td>2023-01-27</td>\n",
       "      <td>1.0865</td>\n",
       "      <td>1.071560</td>\n",
       "    </tr>\n",
       "  </tbody>\n",
       "</table>\n",
       "</div>"
      ],
      "text/plain": [
       "           Time  US_dollar  rolling_mean\n",
       "6224 2023-01-23     1.0871      1.067830\n",
       "6225 2023-01-24     1.0858      1.068817\n",
       "6226 2023-01-25     1.0878      1.069927\n",
       "6227 2023-01-26     1.0895      1.070747\n",
       "6228 2023-01-27     1.0865      1.071560"
      ]
     },
     "execution_count": 66,
     "metadata": {},
     "output_type": "execute_result"
    }
   ],
   "source": [
    "euro_to_dollar['rolling_mean'] = euro_to_dollar['US_dollar'].rolling(30).mean()\n",
    "euro_to_dollar.tail()"
   ]
  },
  {
   "cell_type": "markdown",
   "metadata": {},
   "source": [
    "Now, let's make different plots for different values of rolling mean."
   ]
  },
  {
   "cell_type": "code",
   "execution_count": 67,
   "metadata": {},
   "outputs": [
    {
     "data": {
      "image/png": "[encoded data removed]",
      "text/plain": [
       "<Figure size 648x432 with 6 Axes>"
      ]
     },
     "metadata": {},
     "output_type": "display_data"
    }
   ],
   "source": [
    "plt.figure(figsize=(9,6))\n",
    "\n",
    "plt.subplot(3,2,1)\n",
    "plt.plot(euro_to_dollar['Time'], euro_to_dollar['US_dollar'])\n",
    "plt.title('Original values', weight='bold')\n",
    "\n",
    "for i, rolling_mean in zip([2, 3, 4, 5, 6],\n",
    "                           [7, 30, 50, 100, 200]):\n",
    "    plt.subplot(3,2,i)\n",
    "    plt.plot(euro_to_dollar['Time'],\n",
    "             euro_to_dollar['US_dollar'].rolling(rolling_mean).mean())\n",
    "    plt.title('Rolling Window:' + str(rolling_mean), weight='bold')\n",
    "    \n",
    "plt.tight_layout() # Auto-adjusts the padding between subplots\n",
    "plt.show()"
   ]
  },
  {
   "cell_type": "markdown",
   "metadata": {},
   "source": [
    "## IV. Coming up with an Idea\n",
    "\n",
    "Let's spend some time coming up with an idea for the graph we want to build. We recall that our goal is to create a storytelling data visualization using the data we have.\n",
    "\n",
    "Here are a few story ideas for our data:\n",
    "\n",
    "- We show how the euro-dollar rate has changed during the coronavirus pandemic. We can show the 2020 data and the 2016-2019 data as a baseline. We can use a line plot.\n",
    "\n",
    "\n",
    "- We show how the euro-dollar rate changed during the 2007-2008 financial crisis. We can also show the data for 2006 and 2009 for comparison. We can use a line plot.\n",
    "\n",
    "\n",
    "- We show comparatively how the euro-dollar rate changed under the last three US presidents (George W. Bush (2001-2009), Barack Obama (2009-2017), and Donald Trump (2017-2021)). We can use a line plot."
   ]
  },
  {
   "cell_type": "markdown",
   "metadata": {},
   "source": [
    "## V. Coding the Graph\n",
    "\n",
    "### A. Financial Crisis Example"
   ]
  },
  {
   "cell_type": "code",
   "execution_count": 68,
   "metadata": {
    "collapsed": true
   },
   "outputs": [],
   "source": [
    "financial_crisis = euro_to_dollar.copy(\n",
    "                   )[(euro_to_dollar['Time'].dt.year >= 2006\n",
    "                   ) & (euro_to_dollar['Time'].dt.year <= 2009)]\n",
    "financial_crisis_7_8 = euro_to_dollar.copy(\n",
    "                   )[(euro_to_dollar.Time.dt.year >= 2007\n",
    "                   ) & (euro_to_dollar.Time.dt.year <= 2008)]"
   ]
  },
  {
   "cell_type": "markdown",
   "metadata": {},
   "source": [
    "### B. The Three US Presidencies Example"
   ]
  },
  {
   "cell_type": "code",
   "execution_count": 69,
   "metadata": {
    "collapsed": true
   },
   "outputs": [],
   "source": [
    "bush_obama_trump = euro_to_dollar.copy(\n",
    "                   )[(euro_to_dollar['Time'].dt.year >= 2001) & (euro_to_dollar['Time'].dt.year < 2021)]\n",
    "bush = bush_obama_trump.copy(\n",
    "       )[bush_obama_trump['Time'].dt.year < 2009]\n",
    "obama = bush_obama_trump.copy(\n",
    "       )[(bush_obama_trump['Time'].dt.year >= 2009) & (bush_obama_trump['Time'].dt.year < 2017)]\n",
    "trump = bush_obama_trump.copy(\n",
    "       )[(bush_obama_trump['Time'].dt.year >= 2017) & (bush_obama_trump['Time'].dt.year < 2021)]"
   ]
  },
  {
   "cell_type": "code",
   "execution_count": null,
   "metadata": {
    "collapsed": true
   },
   "outputs": [],
   "source": []
  }
 ],
 "metadata": {
  "kernelspec": {
   "display_name": "Python 3",
   "language": "python",
   "name": "python3"
  },
  "language_info": {
   "codemirror_mode": {
    "name": "ipython",
    "version": 3
   },
   "file_extension": ".py",
   "mimetype": "text/x-python",
   "name": "python",
   "nbconvert_exporter": "python",
   "pygments_lexer": "ipython3",
   "version": "3.6.1"
  }
 },
 "nbformat": 4,
 "nbformat_minor": 2
}
